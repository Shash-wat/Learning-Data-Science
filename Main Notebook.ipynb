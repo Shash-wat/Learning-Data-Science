{
  "cells": [
    {
      "cell_type": "markdown",
      "metadata": {
        "id": "WirpJ__-Pv9Q"
      },
      "source": [
        "<a id='table_of_contents'></a>\n",
        "\n",
        "0. [Import libraries](#imports)\n",
        "1. [Import data](#import_data)\n",
        "2. [Data exploration](#data_exploration)\n",
        "3. [Data cleaning](#data_cleaning)\n",
        "4. [Data preparation](#data_preparation)\n",
        "5. [Benchmark model](#benchmark_model)<br>\n",
        "6. [Feature engineering](#feature_engineering)\n",
        "7. [Model training](#model_training)<br>\n",
        "    7.1. [Decision Tree](#decision_tree)<br>\n",
        "    7.2. [Random Forest](#random_forest)<br>\n",
        "    7.3. [Comparing algorithm performances](#comparing_algorithm_performances)\n",
        "8. [Tuning](#tuning)<br>"
      ]
    },
    {
      "cell_type": "code",
      "source": [
        "from google.colab import drive\n",
        "drive.mount('/content/drive')"
      ],
      "metadata": {
        "id": "OACn_y5PQb-P",
        "outputId": "50871afd-84ce-45c8-9cc8-b2772938fd76",
        "colab": {
          "base_uri": "https://localhost:8080/"
        }
      },
      "execution_count": 3,
      "outputs": [
        {
          "output_type": "stream",
          "name": "stdout",
          "text": [
            "Mounted at /content/drive\n"
          ]
        }
      ]
    },
    {
      "cell_type": "markdown",
      "metadata": {
        "id": "oxK40W-9Pv9S"
      },
      "source": [
        "# 0. Import libraries <a id='imports'></a>\n",
        "[Back to top](#table_of_contents)"
      ]
    },
    {
      "cell_type": "code",
      "execution_count": 1,
      "metadata": {
        "id": "QhAPYJ2APv9T"
      },
      "outputs": [],
      "source": [
        "import pandas as pd"
      ]
    },
    {
      "cell_type": "markdown",
      "metadata": {
        "id": "a7PNYBmJPv9U"
      },
      "source": [
        "# 1. Import data <a id='import_data'></a>\n",
        "[Back to top](#table_of_contents)"
      ]
    },
    {
      "cell_type": "code",
      "execution_count": 5,
      "metadata": {
        "id": "O292Y9HzPv9V"
      },
      "outputs": [],
      "source": [
        "taxi_df = pd.read_csv('/content/drive/MyDrive/Dataset/Taxi Zone Lookup Table.csv')"
      ]
    },
    {
      "cell_type": "markdown",
      "metadata": {
        "id": "gwtxO4SaPv9V"
      },
      "source": [
        "# 2. Data exploration <a id='data_exploration'></a>\n",
        "[Back to top](#table_of_contents)"
      ]
    },
    {
      "cell_type": "code",
      "execution_count": 6,
      "metadata": {
        "id": "658GQ3KnPv9W",
        "outputId": "eb34c44d-cdfc-493b-d5ee-04eb0ca74673",
        "colab": {
          "base_uri": "https://localhost:8080/",
          "height": 206
        }
      },
      "outputs": [
        {
          "output_type": "execute_result",
          "data": {
            "text/plain": [
              "   LocationID        Borough                     Zone service_zone\n",
              "0           1            EWR           Newark Airport          EWR\n",
              "1           2         Queens              Jamaica Bay    Boro Zone\n",
              "2           3          Bronx  Allerton/Pelham Gardens    Boro Zone\n",
              "3           4      Manhattan            Alphabet City  Yellow Zone\n",
              "4           5  Staten Island            Arden Heights    Boro Zone"
            ],
            "text/html": [
              "\n",
              "  <div id=\"df-162a5331-0ba4-4057-850d-f85447110702\" class=\"colab-df-container\">\n",
              "    <div>\n",
              "<style scoped>\n",
              "    .dataframe tbody tr th:only-of-type {\n",
              "        vertical-align: middle;\n",
              "    }\n",
              "\n",
              "    .dataframe tbody tr th {\n",
              "        vertical-align: top;\n",
              "    }\n",
              "\n",
              "    .dataframe thead th {\n",
              "        text-align: right;\n",
              "    }\n",
              "</style>\n",
              "<table border=\"1\" class=\"dataframe\">\n",
              "  <thead>\n",
              "    <tr style=\"text-align: right;\">\n",
              "      <th></th>\n",
              "      <th>LocationID</th>\n",
              "      <th>Borough</th>\n",
              "      <th>Zone</th>\n",
              "      <th>service_zone</th>\n",
              "    </tr>\n",
              "  </thead>\n",
              "  <tbody>\n",
              "    <tr>\n",
              "      <th>0</th>\n",
              "      <td>1</td>\n",
              "      <td>EWR</td>\n",
              "      <td>Newark Airport</td>\n",
              "      <td>EWR</td>\n",
              "    </tr>\n",
              "    <tr>\n",
              "      <th>1</th>\n",
              "      <td>2</td>\n",
              "      <td>Queens</td>\n",
              "      <td>Jamaica Bay</td>\n",
              "      <td>Boro Zone</td>\n",
              "    </tr>\n",
              "    <tr>\n",
              "      <th>2</th>\n",
              "      <td>3</td>\n",
              "      <td>Bronx</td>\n",
              "      <td>Allerton/Pelham Gardens</td>\n",
              "      <td>Boro Zone</td>\n",
              "    </tr>\n",
              "    <tr>\n",
              "      <th>3</th>\n",
              "      <td>4</td>\n",
              "      <td>Manhattan</td>\n",
              "      <td>Alphabet City</td>\n",
              "      <td>Yellow Zone</td>\n",
              "    </tr>\n",
              "    <tr>\n",
              "      <th>4</th>\n",
              "      <td>5</td>\n",
              "      <td>Staten Island</td>\n",
              "      <td>Arden Heights</td>\n",
              "      <td>Boro Zone</td>\n",
              "    </tr>\n",
              "  </tbody>\n",
              "</table>\n",
              "</div>\n",
              "    <div class=\"colab-df-buttons\">\n",
              "\n",
              "  <div class=\"colab-df-container\">\n",
              "    <button class=\"colab-df-convert\" onclick=\"convertToInteractive('df-162a5331-0ba4-4057-850d-f85447110702')\"\n",
              "            title=\"Convert this dataframe to an interactive table.\"\n",
              "            style=\"display:none;\">\n",
              "\n",
              "  <svg xmlns=\"http://www.w3.org/2000/svg\" height=\"24px\" viewBox=\"0 -960 960 960\">\n",
              "    <path d=\"M120-120v-720h720v720H120Zm60-500h600v-160H180v160Zm220 220h160v-160H400v160Zm0 220h160v-160H400v160ZM180-400h160v-160H180v160Zm440 0h160v-160H620v160ZM180-180h160v-160H180v160Zm440 0h160v-160H620v160Z\"/>\n",
              "  </svg>\n",
              "    </button>\n",
              "\n",
              "  <style>\n",
              "    .colab-df-container {\n",
              "      display:flex;\n",
              "      gap: 12px;\n",
              "    }\n",
              "\n",
              "    .colab-df-convert {\n",
              "      background-color: #E8F0FE;\n",
              "      border: none;\n",
              "      border-radius: 50%;\n",
              "      cursor: pointer;\n",
              "      display: none;\n",
              "      fill: #1967D2;\n",
              "      height: 32px;\n",
              "      padding: 0 0 0 0;\n",
              "      width: 32px;\n",
              "    }\n",
              "\n",
              "    .colab-df-convert:hover {\n",
              "      background-color: #E2EBFA;\n",
              "      box-shadow: 0px 1px 2px rgba(60, 64, 67, 0.3), 0px 1px 3px 1px rgba(60, 64, 67, 0.15);\n",
              "      fill: #174EA6;\n",
              "    }\n",
              "\n",
              "    .colab-df-buttons div {\n",
              "      margin-bottom: 4px;\n",
              "    }\n",
              "\n",
              "    [theme=dark] .colab-df-convert {\n",
              "      background-color: #3B4455;\n",
              "      fill: #D2E3FC;\n",
              "    }\n",
              "\n",
              "    [theme=dark] .colab-df-convert:hover {\n",
              "      background-color: #434B5C;\n",
              "      box-shadow: 0px 1px 3px 1px rgba(0, 0, 0, 0.15);\n",
              "      filter: drop-shadow(0px 1px 2px rgba(0, 0, 0, 0.3));\n",
              "      fill: #FFFFFF;\n",
              "    }\n",
              "  </style>\n",
              "\n",
              "    <script>\n",
              "      const buttonEl =\n",
              "        document.querySelector('#df-162a5331-0ba4-4057-850d-f85447110702 button.colab-df-convert');\n",
              "      buttonEl.style.display =\n",
              "        google.colab.kernel.accessAllowed ? 'block' : 'none';\n",
              "\n",
              "      async function convertToInteractive(key) {\n",
              "        const element = document.querySelector('#df-162a5331-0ba4-4057-850d-f85447110702');\n",
              "        const dataTable =\n",
              "          await google.colab.kernel.invokeFunction('convertToInteractive',\n",
              "                                                    [key], {});\n",
              "        if (!dataTable) return;\n",
              "\n",
              "        const docLinkHtml = 'Like what you see? Visit the ' +\n",
              "          '<a target=\"_blank\" href=https://colab.research.google.com/notebooks/data_table.ipynb>data table notebook</a>'\n",
              "          + ' to learn more about interactive tables.';\n",
              "        element.innerHTML = '';\n",
              "        dataTable['output_type'] = 'display_data';\n",
              "        await google.colab.output.renderOutput(dataTable, element);\n",
              "        const docLink = document.createElement('div');\n",
              "        docLink.innerHTML = docLinkHtml;\n",
              "        element.appendChild(docLink);\n",
              "      }\n",
              "    </script>\n",
              "  </div>\n",
              "\n",
              "\n",
              "<div id=\"df-06bdd92b-a799-4d30-bd1a-c363fa3e0d8c\">\n",
              "  <button class=\"colab-df-quickchart\" onclick=\"quickchart('df-06bdd92b-a799-4d30-bd1a-c363fa3e0d8c')\"\n",
              "            title=\"Suggest charts\"\n",
              "            style=\"display:none;\">\n",
              "\n",
              "<svg xmlns=\"http://www.w3.org/2000/svg\" height=\"24px\"viewBox=\"0 0 24 24\"\n",
              "     width=\"24px\">\n",
              "    <g>\n",
              "        <path d=\"M19 3H5c-1.1 0-2 .9-2 2v14c0 1.1.9 2 2 2h14c1.1 0 2-.9 2-2V5c0-1.1-.9-2-2-2zM9 17H7v-7h2v7zm4 0h-2V7h2v10zm4 0h-2v-4h2v4z\"/>\n",
              "    </g>\n",
              "</svg>\n",
              "  </button>\n",
              "\n",
              "<style>\n",
              "  .colab-df-quickchart {\n",
              "      --bg-color: #E8F0FE;\n",
              "      --fill-color: #1967D2;\n",
              "      --hover-bg-color: #E2EBFA;\n",
              "      --hover-fill-color: #174EA6;\n",
              "      --disabled-fill-color: #AAA;\n",
              "      --disabled-bg-color: #DDD;\n",
              "  }\n",
              "\n",
              "  [theme=dark] .colab-df-quickchart {\n",
              "      --bg-color: #3B4455;\n",
              "      --fill-color: #D2E3FC;\n",
              "      --hover-bg-color: #434B5C;\n",
              "      --hover-fill-color: #FFFFFF;\n",
              "      --disabled-bg-color: #3B4455;\n",
              "      --disabled-fill-color: #666;\n",
              "  }\n",
              "\n",
              "  .colab-df-quickchart {\n",
              "    background-color: var(--bg-color);\n",
              "    border: none;\n",
              "    border-radius: 50%;\n",
              "    cursor: pointer;\n",
              "    display: none;\n",
              "    fill: var(--fill-color);\n",
              "    height: 32px;\n",
              "    padding: 0;\n",
              "    width: 32px;\n",
              "  }\n",
              "\n",
              "  .colab-df-quickchart:hover {\n",
              "    background-color: var(--hover-bg-color);\n",
              "    box-shadow: 0 1px 2px rgba(60, 64, 67, 0.3), 0 1px 3px 1px rgba(60, 64, 67, 0.15);\n",
              "    fill: var(--button-hover-fill-color);\n",
              "  }\n",
              "\n",
              "  .colab-df-quickchart-complete:disabled,\n",
              "  .colab-df-quickchart-complete:disabled:hover {\n",
              "    background-color: var(--disabled-bg-color);\n",
              "    fill: var(--disabled-fill-color);\n",
              "    box-shadow: none;\n",
              "  }\n",
              "\n",
              "  .colab-df-spinner {\n",
              "    border: 2px solid var(--fill-color);\n",
              "    border-color: transparent;\n",
              "    border-bottom-color: var(--fill-color);\n",
              "    animation:\n",
              "      spin 1s steps(1) infinite;\n",
              "  }\n",
              "\n",
              "  @keyframes spin {\n",
              "    0% {\n",
              "      border-color: transparent;\n",
              "      border-bottom-color: var(--fill-color);\n",
              "      border-left-color: var(--fill-color);\n",
              "    }\n",
              "    20% {\n",
              "      border-color: transparent;\n",
              "      border-left-color: var(--fill-color);\n",
              "      border-top-color: var(--fill-color);\n",
              "    }\n",
              "    30% {\n",
              "      border-color: transparent;\n",
              "      border-left-color: var(--fill-color);\n",
              "      border-top-color: var(--fill-color);\n",
              "      border-right-color: var(--fill-color);\n",
              "    }\n",
              "    40% {\n",
              "      border-color: transparent;\n",
              "      border-right-color: var(--fill-color);\n",
              "      border-top-color: var(--fill-color);\n",
              "    }\n",
              "    60% {\n",
              "      border-color: transparent;\n",
              "      border-right-color: var(--fill-color);\n",
              "    }\n",
              "    80% {\n",
              "      border-color: transparent;\n",
              "      border-right-color: var(--fill-color);\n",
              "      border-bottom-color: var(--fill-color);\n",
              "    }\n",
              "    90% {\n",
              "      border-color: transparent;\n",
              "      border-bottom-color: var(--fill-color);\n",
              "    }\n",
              "  }\n",
              "</style>\n",
              "\n",
              "  <script>\n",
              "    async function quickchart(key) {\n",
              "      const quickchartButtonEl =\n",
              "        document.querySelector('#' + key + ' button');\n",
              "      quickchartButtonEl.disabled = true;  // To prevent multiple clicks.\n",
              "      quickchartButtonEl.classList.add('colab-df-spinner');\n",
              "      try {\n",
              "        const charts = await google.colab.kernel.invokeFunction(\n",
              "            'suggestCharts', [key], {});\n",
              "      } catch (error) {\n",
              "        console.error('Error during call to suggestCharts:', error);\n",
              "      }\n",
              "      quickchartButtonEl.classList.remove('colab-df-spinner');\n",
              "      quickchartButtonEl.classList.add('colab-df-quickchart-complete');\n",
              "    }\n",
              "    (() => {\n",
              "      let quickchartButtonEl =\n",
              "        document.querySelector('#df-06bdd92b-a799-4d30-bd1a-c363fa3e0d8c button');\n",
              "      quickchartButtonEl.style.display =\n",
              "        google.colab.kernel.accessAllowed ? 'block' : 'none';\n",
              "    })();\n",
              "  </script>\n",
              "</div>\n",
              "\n",
              "    </div>\n",
              "  </div>\n"
            ],
            "application/vnd.google.colaboratory.intrinsic+json": {
              "type": "dataframe",
              "variable_name": "taxi_df",
              "summary": "{\n  \"name\": \"taxi_df\",\n  \"rows\": 265,\n  \"fields\": [\n    {\n      \"column\": \"LocationID\",\n      \"properties\": {\n        \"dtype\": \"number\",\n        \"std\": 76,\n        \"min\": 1,\n        \"max\": 265,\n        \"num_unique_values\": 265,\n        \"samples\": [\n          180,\n          116,\n          97\n        ],\n        \"semantic_type\": \"\",\n        \"description\": \"\"\n      }\n    },\n    {\n      \"column\": \"Borough\",\n      \"properties\": {\n        \"dtype\": \"category\",\n        \"num_unique_values\": 7,\n        \"samples\": [\n          \"EWR\",\n          \"Queens\",\n          \"Brooklyn\"\n        ],\n        \"semantic_type\": \"\",\n        \"description\": \"\"\n      }\n    },\n    {\n      \"column\": \"Zone\",\n      \"properties\": {\n        \"dtype\": \"string\",\n        \"num_unique_values\": 261,\n        \"samples\": [\n          \"Bronx Park\",\n          \"Longwood\",\n          \"Norwood\"\n        ],\n        \"semantic_type\": \"\",\n        \"description\": \"\"\n      }\n    },\n    {\n      \"column\": \"service_zone\",\n      \"properties\": {\n        \"dtype\": \"category\",\n        \"num_unique_values\": 4,\n        \"samples\": [\n          \"Boro Zone\",\n          \"Airports\",\n          \"EWR\"\n        ],\n        \"semantic_type\": \"\",\n        \"description\": \"\"\n      }\n    }\n  ]\n}"
            }
          },
          "metadata": {},
          "execution_count": 6
        }
      ],
      "source": [
        "taxi_df.head()"
      ]
    },
    {
      "cell_type": "code",
      "execution_count": 7,
      "metadata": {
        "id": "7JVTbC-cPv9Y",
        "outputId": "751df149-1c48-4563-dddd-805f5e4bab1d",
        "colab": {
          "base_uri": "https://localhost:8080/"
        }
      },
      "outputs": [
        {
          "output_type": "execute_result",
          "data": {
            "text/plain": [
              "(265, 4)"
            ]
          },
          "metadata": {},
          "execution_count": 7
        }
      ],
      "source": [
        "taxi_df.shape"
      ]
    },
    {
      "cell_type": "code",
      "execution_count": 8,
      "metadata": {
        "id": "uHuqaKVAPv9Y",
        "outputId": "b6637520-d2e2-44b5-b488-e8a682995958",
        "colab": {
          "base_uri": "https://localhost:8080/"
        }
      },
      "outputs": [
        {
          "output_type": "execute_result",
          "data": {
            "text/plain": [
              "Index(['LocationID', 'Borough', 'Zone', 'service_zone'], dtype='object')"
            ]
          },
          "metadata": {},
          "execution_count": 8
        }
      ],
      "source": [
        "taxi_df.columns"
      ]
    },
    {
      "cell_type": "markdown",
      "metadata": {
        "id": "W7dbhO8UPv9Z"
      },
      "source": [
        "# 3. Data cleaning <a id='data_cleaning'></a>\n",
        "[Back to top](#table_of_contents)"
      ]
    },
    {
      "cell_type": "markdown",
      "metadata": {
        "id": "RBrTT85TPv9Z"
      },
      "source": [
        "# 4. Data preparation <a id='data_preparation'></a>\n",
        "[Back to top](#table_of_contents)"
      ]
    },
    {
      "cell_type": "markdown",
      "metadata": {
        "id": "W3N-QwXsPv9Z"
      },
      "source": [
        "# 5. Benchmark model <a id='benchmark_model'></a>\n",
        "[Back to top](#table_of_contents)"
      ]
    },
    {
      "cell_type": "markdown",
      "metadata": {
        "id": "36RO0LogPv9Z"
      },
      "source": [
        "# 6. Feature engineering <a id='feature_engineering'></a>\n",
        "[Back to top](#table_of_contents)"
      ]
    },
    {
      "cell_type": "markdown",
      "metadata": {
        "id": "IVIUjCNSPv9a"
      },
      "source": [
        "# 7. Model training <a id='model_training'></a>\n",
        "[Back to top](#table_of_contents)"
      ]
    },
    {
      "cell_type": "markdown",
      "metadata": {
        "id": "EGnpTHs6Pv9a"
      },
      "source": [
        "## 7.1. Decision tree <a id='decision_tree'></a>"
      ]
    },
    {
      "cell_type": "markdown",
      "metadata": {
        "id": "MaqOGjwzPv9a"
      },
      "source": [
        "## 7.2. Random forest <a id='random_forest'></a>"
      ]
    },
    {
      "cell_type": "markdown",
      "metadata": {
        "id": "kFBBJ1LcPv9a"
      },
      "source": [
        "## 7.3. Comparing algorithm performances <a id='comparing_algorithm_performances'></a>"
      ]
    },
    {
      "cell_type": "markdown",
      "metadata": {
        "id": "LFvy2u3sPv9a"
      },
      "source": [
        "# 8. Tuning <a id='tuning'></a>\n",
        "[Back to top](#table_of_contents)"
      ]
    }
  ],
  "metadata": {
    "kernelspec": {
      "display_name": "base",
      "language": "python",
      "name": "python3"
    },
    "language_info": {
      "codemirror_mode": {
        "name": "ipython",
        "version": 3
      },
      "file_extension": ".py",
      "mimetype": "text/x-python",
      "name": "python",
      "nbconvert_exporter": "python",
      "pygments_lexer": "ipython3",
      "version": "3.12.7"
    },
    "colab": {
      "provenance": []
    }
  },
  "nbformat": 4,
  "nbformat_minor": 0
}